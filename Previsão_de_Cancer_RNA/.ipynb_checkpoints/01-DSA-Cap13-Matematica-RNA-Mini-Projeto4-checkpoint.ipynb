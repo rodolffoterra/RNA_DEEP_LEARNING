{
 "cells": [
  {
   "cell_type": "markdown",
   "metadata": {},
   "source": [
    "# <font color='blue'>Data Science Academy - Machine Learning</font>\n",
    "\n",
    "# <font color='blue'>Capítulo 13</font>"
   ]
  },
  {
   "cell_type": "code",
   "execution_count": 1,
   "metadata": {},
   "outputs": [
    {
     "name": "stdout",
     "output_type": "stream",
     "text": [
      "Versão da Linguagem Python Usada Neste Jupyter Notebook: 3.7.6\n"
     ]
    }
   ],
   "source": [
    "# Versão da Linguagem Python\n",
    "from platform import python_version\n",
    "print('Versão da Linguagem Python Usada Neste Jupyter Notebook:', python_version())"
   ]
  },
  {
   "cell_type": "markdown",
   "metadata": {},
   "source": [
    "## A Matemática das Redes Neurais Artificiais\n",
    "\n",
    "### Construindo a Rede Neural com Programação e Matemática"
   ]
  },
  {
   "cell_type": "markdown",
   "metadata": {},
   "source": [
    "![title](imagens/math.png)"
   ]
  },
  {
   "cell_type": "markdown",
   "metadata": {},
   "source": [
    "Teremos 2 Partes:\n",
    "\n",
    "- Parte 1 - Vamos construir uma rede neural artificial somente com operações matemáticas\n",
    "- Parte 2 - Vamos treinar a rede para Prever a Ocorrência de Câncer"
   ]
  },
  {
   "cell_type": "markdown",
   "metadata": {},
   "source": [
    "## A Arquitetura de Redes Neurais Artificiais"
   ]
  },
  {
   "cell_type": "markdown",
   "metadata": {},
   "source": [
    "Uma rede neural típica é constituída por um conjunto de neurônios interligados, infuenciando uns aos outros formando um sistema maior, capaz de armazenar conhecimento adquirido por meio de exemplos apresentados e, assim, podendo realizar inferências sobre novos conjuntos de dados. Vejamos a arquitetura de redes neurais artificiais.\n",
    "\n",
    "As redes neurais são comumente apresentadas como um grafo orientado, onde os vértices são os neurônios e as arestas as sinapses. A direção das arestas informa o tipo de alimentação, ou seja, como os neurônios são alimentados (recebem sinais de entrada). As redes neurais derivam seu poder devido a sua estrutura massiva e paralela e a habilidade de aprender por experiência. Essa experiência é transmitida por meio de exemplos obtidos do mundo real, definidos como um conjunto de características formados por dados de entrada e de saída. Se apresentamos esses dados de entrada e saída à rede, estamos diante de aprendizagem supervsionada e caso apresentemos apenas os dados de entrada, estamos diante de aprendizagem não supervisionada!\n",
    "\n",
    "O conhecimento obtido pela rede através dos exemplos é armazenado na forma de pesos das conexões, os quais serão ajustados a fim de tomar decisões corretas a partir de novas entradas, ou seja, novas situações do mundo real não conhecidas pela rede. O processo de ajuste dos pesos sinapticos é realizado pelo algoritmo de aprendizagem, responsável em armazenar na rede o conhecimento do mundo real obtido atraves de exemplos. Existem vários algoritmos de aprendizagem, dentre eles o backpropagation que é o algoritmo mais utilizado.\n",
    "\n",
    "![title](imagens/nnet.png)"
   ]
  },
  {
   "cell_type": "markdown",
   "metadata": {},
   "source": [
    "### Importando os Pacotes"
   ]
  },
  {
   "cell_type": "code",
   "execution_count": 2,
   "metadata": {},
   "outputs": [],
   "source": [
    "# Para atualizar um pacote, execute o comando abaixo no terminal ou prompt de comando:\n",
    "# pip install -U nome_pacote\n",
    "\n",
    "# Para instalar a versão exata de um pacote, execute o comando abaixo no terminal ou prompt de comando:\n",
    "# pip install nome_pacote==versão_desejada\n",
    "\n",
    "# Depois de instalar ou atualizar o pacote, reinicie o jupyter notebook."
   ]
  },
  {
   "cell_type": "code",
   "execution_count": 3,
   "metadata": {},
   "outputs": [],
   "source": [
    "# Instala o pacote watermark. \n",
    "# Esse pacote é usado para gravar as versões de outros pacotes usados neste jupyter notebook.\n",
    "!pip install -q -U watermark"
   ]
  },
  {
   "cell_type": "code",
   "execution_count": 4,
   "metadata": {},
   "outputs": [],
   "source": [
    "# Por enquanto precisaremos somente do NumPy\n",
    "import numpy as np"
   ]
  },
  {
   "cell_type": "code",
   "execution_count": 5,
   "metadata": {},
   "outputs": [
    {
     "name": "stdout",
     "output_type": "stream",
     "text": [
      "numpy 1.18.5\n",
      "Data Science Academy\n"
     ]
    }
   ],
   "source": [
    "# Versões dos pacotes usados neste jupyter notebook\n",
    "%reload_ext watermark\n",
    "%watermark -a \"Data Science Academy\" --iversions"
   ]
  },
  {
   "cell_type": "markdown",
   "metadata": {},
   "source": [
    "### Parte 1 - Implementando Uma Rede Neural Artificial Somente com Fórmulas Matemáticas (Sem Frameworks)"
   ]
  },
  {
   "cell_type": "markdown",
   "metadata": {},
   "source": [
    "Faça a leitura do manual em pdf no próximo item de aprendizagem: Parâmetros x Hiperparâmetros."
   ]
  },
  {
   "cell_type": "markdown",
   "metadata": {},
   "source": [
    "### Parte 1A - Forward Propagation\n",
    "\n",
    "https://arxiv.org/pdf/1905.07490.pdf"
   ]
  },
  {
   "cell_type": "markdown",
   "metadata": {},
   "source": [
    "![title](imagens/nn.png)"
   ]
  },
  {
   "cell_type": "markdown",
   "metadata": {},
   "source": [
    "Faça a leitura do manual em pdf no próximo item de aprendizagem: Por Que Inicializamos os Pesos de Um Modelo de Rede Neural?"
   ]
  },
  {
   "cell_type": "markdown",
   "metadata": {},
   "source": [
    "### Desenvolvendo a Função Para Inicialização de Pesos"
   ]
  },
  {
   "cell_type": "code",
   "execution_count": 6,
   "metadata": {},
   "outputs": [],
   "source": [
    "# Função para inicialização randômica dos parâmetros do modelo\n",
    "def inicializa_parametros(dims_camada_entrada):\n",
    "    \n",
    "    # Dicionário para os parâmetros\n",
    "    parameters = {}\n",
    "    \n",
    "    # Comprimento das dimensões das camadas\n",
    "    comp = len(dims_camada_entrada)\n",
    "    \n",
    "    # Loop pelo comprimento\n",
    "    for i in range(1, comp):\n",
    "        \n",
    "        # Inicialização da matriz de pesos\n",
    "        parameters[\"W\" + str(i)] = np.random.randn(dims_camada_entrada[i], dims_camada_entrada[i - 1]) * 0.01\n",
    "        \n",
    "        # Inicialização do bias\n",
    "        parameters[\"b\" + str(i)] = np.zeros((dims_camada_entrada[i], 1))\n",
    "    \n",
    "    return parameters"
   ]
  },
  {
   "cell_type": "markdown",
   "metadata": {},
   "source": [
    "### Desenvolvendo a Função Sigmóide"
   ]
  },
  {
   "cell_type": "markdown",
   "metadata": {},
   "source": [
    "![title](imagens/sigmoid.png)"
   ]
  },
  {
   "cell_type": "code",
   "execution_count": 7,
   "metadata": {},
   "outputs": [],
   "source": [
    "# Função sigmóide\n",
    "def sigmoid(Z):\n",
    "    A = 1/(1 + np.exp(-Z))\n",
    "    return A, Z"
   ]
  },
  {
   "cell_type": "markdown",
   "metadata": {},
   "source": [
    "### Desenvolvendo a Função ReLu"
   ]
  },
  {
   "cell_type": "markdown",
   "metadata": {},
   "source": [
    "![title](imagens/relu.png)"
   ]
  },
  {
   "cell_type": "code",
   "execution_count": 8,
   "metadata": {},
   "outputs": [],
   "source": [
    "# Função de ativação ReLu (Rectified Linear Unit)\n",
    "def relu(Z):\n",
    "    A = Z * (Z > 0)\n",
    "    return A, Z"
   ]
  },
  {
   "cell_type": "markdown",
   "metadata": {},
   "source": [
    "### Desenvolvendo a Ativação Linear"
   ]
  },
  {
   "cell_type": "code",
   "execution_count": 9,
   "metadata": {},
   "outputs": [],
   "source": [
    "# Operação de ativação\n",
    "# A é a matriz com os dados de entrada\n",
    "# W é a matriz de pesos\n",
    "# b é o bias\n",
    "def linear_activation(A, W, b):\n",
    "    Z = np.dot(W, A) + b\n",
    "    cache = (A, W, b)\n",
    "    return Z, cache"
   ]
  },
  {
   "cell_type": "markdown",
   "metadata": {},
   "source": [
    "### Construindo o Processo de Forward Propagation"
   ]
  },
  {
   "cell_type": "code",
   "execution_count": 10,
   "metadata": {},
   "outputs": [],
   "source": [
    "# Movimento para frente (forward)\n",
    "def forward(A_prev, W, b, activation):\n",
    "    \n",
    "    # Se a função de ativação for Sigmoid, entramos neste bloco\n",
    "    if activation == \"sigmoid\":\n",
    "        Z, linear_cache = linear_activation(A_prev, W, b)\n",
    "        A, activation_cache = sigmoid(Z)\n",
    "        \n",
    "    # Se não, se for ReLu, entramos neste bloco    \n",
    "    elif activation == \"relu\":\n",
    "        Z, linear_cache = linear_activation(A_prev, W, b)\n",
    "        A, activation_cache = relu(Z)\n",
    "        \n",
    "    cache = (linear_cache, activation_cache)\n",
    "    \n",
    "    return A,cache"
   ]
  },
  {
   "cell_type": "markdown",
   "metadata": {},
   "source": [
    "### Combinando Ativação e Propagação"
   ]
  },
  {
   "cell_type": "code",
   "execution_count": 11,
   "metadata": {},
   "outputs": [],
   "source": [
    "# Propagação para frente\n",
    "def forward_propagation(X, parameters):\n",
    "    \n",
    "    # Lista de valores anteriores (cache)\n",
    "    caches = []\n",
    "    \n",
    "    # Dados de entrada\n",
    "    A = X\n",
    "    \n",
    "    # Comprimento dos parâmetros\n",
    "    L = len(parameters) // 2\n",
    "   \n",
    "    # Loop\n",
    "    for i in range(1, L):\n",
    "      \n",
    "        # Guarda o valor prévio de A\n",
    "        A_prev = A\n",
    "        \n",
    "        # Executa o forward\n",
    "        A, cache = forward(A_prev, parameters[\"W\" + str(i)], parameters[\"b\" + str(i)], activation = \"relu\")\n",
    "        \n",
    "        # Grava o cache\n",
    "        caches.append(cache)\n",
    "    \n",
    "    # Saída na última camada\n",
    "    A_last, cache = forward(A, parameters[\"W\" + str(L)], parameters[\"b\" + str(L)], activation = \"sigmoid\")\n",
    "    \n",
    "    # Grava o cache\n",
    "    caches.append(cache)\n",
    "    \n",
    "    return(A_last, caches)"
   ]
  },
  {
   "cell_type": "markdown",
   "metadata": {},
   "source": [
    "### Desenvolvendo a Função de Custo"
   ]
  },
  {
   "cell_type": "code",
   "execution_count": 12,
   "metadata": {},
   "outputs": [],
   "source": [
    "# Função de custo (ou função de erro)\n",
    "def calcula_custo(A_last, Y):\n",
    "    \n",
    "    # Ajusta o shape de Y\n",
    "    m = Y.shape[1]\n",
    "    \n",
    "    # Calcula o custo comparando valor real e previso\n",
    "    custo = (-1 / m) * np.sum((Y * np.log(A_last)) + ((1 - Y) * np.log(1 - A_last)))\n",
    "    \n",
    "    # Ajusta o shape do custo\n",
    "    custo = np.squeeze(custo)\n",
    "    \n",
    "    return(custo)"
   ]
  },
  {
   "cell_type": "markdown",
   "metadata": {},
   "source": [
    "### Parte 1B - Backward Propagation"
   ]
  },
  {
   "cell_type": "markdown",
   "metadata": {},
   "source": [
    "### Desenvolvendo o Backward Propagation - Função Sigmóide Backward"
   ]
  },
  {
   "cell_type": "code",
   "execution_count": 13,
   "metadata": {},
   "outputs": [],
   "source": [
    "# Função sigmoid para o backpropagation\n",
    "def sigmoid_backward(da, Z):\n",
    "    dg = (1 / (1+np.exp(-Z))) * (1 - (1 / (1 + np.exp(-Z))))\n",
    "    dz = da * dg\n",
    "    return dz"
   ]
  },
  {
   "cell_type": "markdown",
   "metadata": {},
   "source": [
    "### Desenvolvendo o Backward Propagation - Função ReLu Backward"
   ]
  },
  {
   "cell_type": "code",
   "execution_count": 14,
   "metadata": {},
   "outputs": [],
   "source": [
    "def relu_backward(da,Z):\n",
    "    dg = 1 * ( Z >= 0)\n",
    "    dz = da * dg\n",
    "    return dz"
   ]
  },
  {
   "cell_type": "markdown",
   "metadata": {},
   "source": [
    "### Desenvolvendo o Backward Propagation - Ativação Linear Backward"
   ]
  },
  {
   "cell_type": "code",
   "execution_count": 15,
   "metadata": {},
   "outputs": [],
   "source": [
    "def linear_backward_function(dz, cache):\n",
    "    A_prev, W, b = cache\n",
    "    m = A_prev.shape[1]\n",
    "    dW = (1 / m) * np.dot(dz, A_prev.T)\n",
    "    db = (1 / m) * np.sum(dz, axis = 1, keepdims = True)\n",
    "    dA_prev = np.dot(W.T, dz)\n",
    "    return dA_prev, dW, db"
   ]
  },
  {
   "cell_type": "markdown",
   "metadata": {},
   "source": [
    "###  Ativação Linear Backward"
   ]
  },
  {
   "cell_type": "code",
   "execution_count": 16,
   "metadata": {},
   "outputs": [],
   "source": [
    "def linear_activation_backward(dA, cache, activation):\n",
    "    \n",
    "    linear_cache,activation_cache = cache\n",
    "    \n",
    "    if activation == \"relu\":\n",
    "        dZ = relu_backward(dA,activation_cache)\n",
    "        dA_prev, dW, db = linear_backward_function(dZ,linear_cache)\n",
    "        \n",
    "    if activation == \"sigmoid\":\n",
    "        dZ = sigmoid_backward(dA,activation_cache)\n",
    "        dA_prev,dW,db = linear_backward_function(dZ,linear_cache)\n",
    "        \n",
    "    return dA_prev,dW,db"
   ]
  },
  {
   "cell_type": "markdown",
   "metadata": {},
   "source": [
    "### Combinando Ativação e Retro-Propagação"
   ]
  },
  {
   "cell_type": "code",
   "execution_count": 17,
   "metadata": {},
   "outputs": [],
   "source": [
    "def backward_propagation(AL,Y,caches):\n",
    "    \n",
    "    grads = {}\n",
    "    L = len(caches)\n",
    "    m = AL.shape[1]\n",
    "    Y = Y.reshape(AL.shape)\n",
    "    dAL = -((Y / AL) - ((1 - Y) / (1 - AL)))\n",
    "    current_cache = caches[L-1]\n",
    "    grads[\"dA\" + str(L - 1)], grads[\"dW\" + str(L)], grads[\"db\" + str(L)] = linear_activation_backward(dAL,current_cache,activation = \"sigmoid\")\n",
    "    \n",
    "    for l in reversed(range(L - 1)):\n",
    "        current_cache = caches[l]\n",
    "        dA_prev, dW, db = linear_activation_backward(grads[\"dA\" + str(l + 1)], current_cache, activation = \"relu\")\n",
    "        grads[\"dA\" + str(l)] = dA_prev\n",
    "        grads[\"dW\" + str(l + 1)] = dW\n",
    "        grads[\"db\" + str(l + 1)] = db\n",
    "        \n",
    "    return grads"
   ]
  },
  {
   "cell_type": "markdown",
   "metadata": {},
   "source": [
    "### Gradientes e Atualização dos Pesos"
   ]
  },
  {
   "cell_type": "code",
   "execution_count": 18,
   "metadata": {},
   "outputs": [],
   "source": [
    "def atualiza_pesos(parameters, grads, learning_rate):\n",
    "    \n",
    "    L = len(parameters)//2\n",
    "    \n",
    "    for l in range(L):\n",
    "        parameters[\"W\" + str(l + 1)] = parameters[\"W\" + str(l + 1)] - (learning_rate * grads[\"dW\" + str(l + 1)])\n",
    "        parameters[\"b\" + str(l + 1)] = parameters[\"b\" + str(l + 1)] - (learning_rate * grads[\"db\" + str(l + 1)])\n",
    "    \n",
    "    return parameters"
   ]
  },
  {
   "cell_type": "markdown",
   "metadata": {},
   "source": [
    "### Implementando a Rede Completa"
   ]
  },
  {
   "cell_type": "code",
   "execution_count": 19,
   "metadata": {},
   "outputs": [],
   "source": [
    "def modeloNN(X, Y, dims_camada_entrada, learning_rate = 0.0075, num_iterations = 100):\n",
    "    \n",
    "    # Lista para receber o custo a cada época de treinamento\n",
    "    costs = []\n",
    "    \n",
    "    # Inicializa os parâmetros\n",
    "    parameters = inicializa_parametros(dims_camada_entrada)\n",
    "    \n",
    "    # Loop pelo número de iterações (épocas)\n",
    "    for i in range(num_iterations):\n",
    "        \n",
    "        # Forward Propagation\n",
    "        AL, caches = forward_propagation(X,parameters)\n",
    "        \n",
    "        # Calcula o custo\n",
    "        cost = calcula_custo(AL,Y)\n",
    "        \n",
    "        # Backward Propagation\n",
    "        grads = backward_propagation(AL,Y,caches)\n",
    "        \n",
    "        # Atualiza os pesos\n",
    "        parameters = atualiza_pesos(parameters, grads, learning_rate)\n",
    "        \n",
    "        # Print do valor intermediário\n",
    "        if i % 10 == 0:\n",
    "            print(\"Custo Após \" + str(i) + \" iterações é \" + str(cost))\n",
    "            costs.append(cost)\n",
    "            \n",
    "    return parameters, costs "
   ]
  },
  {
   "cell_type": "code",
   "execution_count": 20,
   "metadata": {},
   "outputs": [],
   "source": [
    "# Função para fazer as previsões\n",
    "def predict(X, parameters):\n",
    "    AL, caches = forward_propagation(X, parameters)\n",
    "    return AL"
   ]
  },
  {
   "cell_type": "markdown",
   "metadata": {},
   "source": [
    "### Parte 2 - Vamos treinar a rede para Prever a Ocorrência de Câncer"
   ]
  },
  {
   "cell_type": "markdown",
   "metadata": {},
   "source": [
    "### Mini-Projeto 4 - Usando a Rede Neural Para Prever a Ocorrência de Câncer"
   ]
  },
  {
   "cell_type": "code",
   "execution_count": 21,
   "metadata": {},
   "outputs": [],
   "source": [
    "# Imports\n",
    "import sklearn\n",
    "import numpy as np\n",
    "import pandas as pd\n",
    "import matplotlib\n",
    "import matplotlib.pyplot as plt\n",
    "from sklearn.datasets import load_breast_cancer\n",
    "from sklearn.model_selection import train_test_split\n",
    "from sklearn.metrics import classification_report"
   ]
  },
  {
   "cell_type": "code",
   "execution_count": 22,
   "metadata": {},
   "outputs": [
    {
     "name": "stdout",
     "output_type": "stream",
     "text": [
      "pandas     1.0.4\n",
      "numpy      1.18.5\n",
      "sklearn    0.23.1\n",
      "matplotlib 3.2.1\n",
      "Data Science Academy\n"
     ]
    }
   ],
   "source": [
    "# Versões dos pacotes usados neste jupyter notebook\n",
    "%reload_ext watermark\n",
    "%watermark -a \"Data Science Academy\" --iversions"
   ]
  },
  {
   "cell_type": "code",
   "execution_count": 23,
   "metadata": {},
   "outputs": [],
   "source": [
    "# Carregamos o dataset\n",
    "# https://scikit-learn.org/stable/datasets/index.html#breast-cancer-dataset\n",
    "dados = pd.DataFrame(columns = load_breast_cancer()[\"feature_names\"], data = load_breast_cancer()[\"data\"])"
   ]
  },
  {
   "cell_type": "code",
   "execution_count": 24,
   "metadata": {},
   "outputs": [
    {
     "data": {
      "text/plain": [
       "(569, 30)"
      ]
     },
     "execution_count": 24,
     "metadata": {},
     "output_type": "execute_result"
    }
   ],
   "source": [
    "# Shape\n",
    "dados.shape"
   ]
  },
  {
   "cell_type": "code",
   "execution_count": 25,
   "metadata": {},
   "outputs": [
    {
     "data": {
      "text/html": [
       "<div>\n",
       "<style scoped>\n",
       "    .dataframe tbody tr th:only-of-type {\n",
       "        vertical-align: middle;\n",
       "    }\n",
       "\n",
       "    .dataframe tbody tr th {\n",
       "        vertical-align: top;\n",
       "    }\n",
       "\n",
       "    .dataframe thead th {\n",
       "        text-align: right;\n",
       "    }\n",
       "</style>\n",
       "<table border=\"1\" class=\"dataframe\">\n",
       "  <thead>\n",
       "    <tr style=\"text-align: right;\">\n",
       "      <th></th>\n",
       "      <th>mean radius</th>\n",
       "      <th>mean texture</th>\n",
       "      <th>mean perimeter</th>\n",
       "      <th>mean area</th>\n",
       "      <th>mean smoothness</th>\n",
       "      <th>mean compactness</th>\n",
       "      <th>mean concavity</th>\n",
       "      <th>mean concave points</th>\n",
       "      <th>mean symmetry</th>\n",
       "      <th>mean fractal dimension</th>\n",
       "      <th>...</th>\n",
       "      <th>worst radius</th>\n",
       "      <th>worst texture</th>\n",
       "      <th>worst perimeter</th>\n",
       "      <th>worst area</th>\n",
       "      <th>worst smoothness</th>\n",
       "      <th>worst compactness</th>\n",
       "      <th>worst concavity</th>\n",
       "      <th>worst concave points</th>\n",
       "      <th>worst symmetry</th>\n",
       "      <th>worst fractal dimension</th>\n",
       "    </tr>\n",
       "  </thead>\n",
       "  <tbody>\n",
       "    <tr>\n",
       "      <th>0</th>\n",
       "      <td>17.99</td>\n",
       "      <td>10.38</td>\n",
       "      <td>122.80</td>\n",
       "      <td>1001.0</td>\n",
       "      <td>0.11840</td>\n",
       "      <td>0.27760</td>\n",
       "      <td>0.3001</td>\n",
       "      <td>0.14710</td>\n",
       "      <td>0.2419</td>\n",
       "      <td>0.07871</td>\n",
       "      <td>...</td>\n",
       "      <td>25.38</td>\n",
       "      <td>17.33</td>\n",
       "      <td>184.60</td>\n",
       "      <td>2019.0</td>\n",
       "      <td>0.1622</td>\n",
       "      <td>0.6656</td>\n",
       "      <td>0.7119</td>\n",
       "      <td>0.2654</td>\n",
       "      <td>0.4601</td>\n",
       "      <td>0.11890</td>\n",
       "    </tr>\n",
       "    <tr>\n",
       "      <th>1</th>\n",
       "      <td>20.57</td>\n",
       "      <td>17.77</td>\n",
       "      <td>132.90</td>\n",
       "      <td>1326.0</td>\n",
       "      <td>0.08474</td>\n",
       "      <td>0.07864</td>\n",
       "      <td>0.0869</td>\n",
       "      <td>0.07017</td>\n",
       "      <td>0.1812</td>\n",
       "      <td>0.05667</td>\n",
       "      <td>...</td>\n",
       "      <td>24.99</td>\n",
       "      <td>23.41</td>\n",
       "      <td>158.80</td>\n",
       "      <td>1956.0</td>\n",
       "      <td>0.1238</td>\n",
       "      <td>0.1866</td>\n",
       "      <td>0.2416</td>\n",
       "      <td>0.1860</td>\n",
       "      <td>0.2750</td>\n",
       "      <td>0.08902</td>\n",
       "    </tr>\n",
       "    <tr>\n",
       "      <th>2</th>\n",
       "      <td>19.69</td>\n",
       "      <td>21.25</td>\n",
       "      <td>130.00</td>\n",
       "      <td>1203.0</td>\n",
       "      <td>0.10960</td>\n",
       "      <td>0.15990</td>\n",
       "      <td>0.1974</td>\n",
       "      <td>0.12790</td>\n",
       "      <td>0.2069</td>\n",
       "      <td>0.05999</td>\n",
       "      <td>...</td>\n",
       "      <td>23.57</td>\n",
       "      <td>25.53</td>\n",
       "      <td>152.50</td>\n",
       "      <td>1709.0</td>\n",
       "      <td>0.1444</td>\n",
       "      <td>0.4245</td>\n",
       "      <td>0.4504</td>\n",
       "      <td>0.2430</td>\n",
       "      <td>0.3613</td>\n",
       "      <td>0.08758</td>\n",
       "    </tr>\n",
       "    <tr>\n",
       "      <th>3</th>\n",
       "      <td>11.42</td>\n",
       "      <td>20.38</td>\n",
       "      <td>77.58</td>\n",
       "      <td>386.1</td>\n",
       "      <td>0.14250</td>\n",
       "      <td>0.28390</td>\n",
       "      <td>0.2414</td>\n",
       "      <td>0.10520</td>\n",
       "      <td>0.2597</td>\n",
       "      <td>0.09744</td>\n",
       "      <td>...</td>\n",
       "      <td>14.91</td>\n",
       "      <td>26.50</td>\n",
       "      <td>98.87</td>\n",
       "      <td>567.7</td>\n",
       "      <td>0.2098</td>\n",
       "      <td>0.8663</td>\n",
       "      <td>0.6869</td>\n",
       "      <td>0.2575</td>\n",
       "      <td>0.6638</td>\n",
       "      <td>0.17300</td>\n",
       "    </tr>\n",
       "    <tr>\n",
       "      <th>4</th>\n",
       "      <td>20.29</td>\n",
       "      <td>14.34</td>\n",
       "      <td>135.10</td>\n",
       "      <td>1297.0</td>\n",
       "      <td>0.10030</td>\n",
       "      <td>0.13280</td>\n",
       "      <td>0.1980</td>\n",
       "      <td>0.10430</td>\n",
       "      <td>0.1809</td>\n",
       "      <td>0.05883</td>\n",
       "      <td>...</td>\n",
       "      <td>22.54</td>\n",
       "      <td>16.67</td>\n",
       "      <td>152.20</td>\n",
       "      <td>1575.0</td>\n",
       "      <td>0.1374</td>\n",
       "      <td>0.2050</td>\n",
       "      <td>0.4000</td>\n",
       "      <td>0.1625</td>\n",
       "      <td>0.2364</td>\n",
       "      <td>0.07678</td>\n",
       "    </tr>\n",
       "  </tbody>\n",
       "</table>\n",
       "<p>5 rows × 30 columns</p>\n",
       "</div>"
      ],
      "text/plain": [
       "   mean radius  mean texture  mean perimeter  mean area  mean smoothness  \\\n",
       "0        17.99         10.38          122.80     1001.0          0.11840   \n",
       "1        20.57         17.77          132.90     1326.0          0.08474   \n",
       "2        19.69         21.25          130.00     1203.0          0.10960   \n",
       "3        11.42         20.38           77.58      386.1          0.14250   \n",
       "4        20.29         14.34          135.10     1297.0          0.10030   \n",
       "\n",
       "   mean compactness  mean concavity  mean concave points  mean symmetry  \\\n",
       "0           0.27760          0.3001              0.14710         0.2419   \n",
       "1           0.07864          0.0869              0.07017         0.1812   \n",
       "2           0.15990          0.1974              0.12790         0.2069   \n",
       "3           0.28390          0.2414              0.10520         0.2597   \n",
       "4           0.13280          0.1980              0.10430         0.1809   \n",
       "\n",
       "   mean fractal dimension  ...  worst radius  worst texture  worst perimeter  \\\n",
       "0                 0.07871  ...         25.38          17.33           184.60   \n",
       "1                 0.05667  ...         24.99          23.41           158.80   \n",
       "2                 0.05999  ...         23.57          25.53           152.50   \n",
       "3                 0.09744  ...         14.91          26.50            98.87   \n",
       "4                 0.05883  ...         22.54          16.67           152.20   \n",
       "\n",
       "   worst area  worst smoothness  worst compactness  worst concavity  \\\n",
       "0      2019.0            0.1622             0.6656           0.7119   \n",
       "1      1956.0            0.1238             0.1866           0.2416   \n",
       "2      1709.0            0.1444             0.4245           0.4504   \n",
       "3       567.7            0.2098             0.8663           0.6869   \n",
       "4      1575.0            0.1374             0.2050           0.4000   \n",
       "\n",
       "   worst concave points  worst symmetry  worst fractal dimension  \n",
       "0                0.2654          0.4601                  0.11890  \n",
       "1                0.1860          0.2750                  0.08902  \n",
       "2                0.2430          0.3613                  0.08758  \n",
       "3                0.2575          0.6638                  0.17300  \n",
       "4                0.1625          0.2364                  0.07678  \n",
       "\n",
       "[5 rows x 30 columns]"
      ]
     },
     "execution_count": 25,
     "metadata": {},
     "output_type": "execute_result"
    }
   ],
   "source": [
    "# Visualiza os dados\n",
    "dados.head()"
   ]
  },
  {
   "cell_type": "code",
   "execution_count": 26,
   "metadata": {},
   "outputs": [
    {
     "data": {
      "text/plain": [
       "mean radius                False\n",
       "mean texture               False\n",
       "mean perimeter             False\n",
       "mean area                  False\n",
       "mean smoothness            False\n",
       "mean compactness           False\n",
       "mean concavity             False\n",
       "mean concave points        False\n",
       "mean symmetry              False\n",
       "mean fractal dimension     False\n",
       "radius error               False\n",
       "texture error              False\n",
       "perimeter error            False\n",
       "area error                 False\n",
       "smoothness error           False\n",
       "compactness error          False\n",
       "concavity error            False\n",
       "concave points error       False\n",
       "symmetry error             False\n",
       "fractal dimension error    False\n",
       "worst radius               False\n",
       "worst texture              False\n",
       "worst perimeter            False\n",
       "worst area                 False\n",
       "worst smoothness           False\n",
       "worst compactness          False\n",
       "worst concavity            False\n",
       "worst concave points       False\n",
       "worst symmetry             False\n",
       "worst fractal dimension    False\n",
       "dtype: bool"
      ]
     },
     "execution_count": 26,
     "metadata": {},
     "output_type": "execute_result"
    }
   ],
   "source": [
    "# Verifica por valores nulos\n",
    "dados.isnull().any()"
   ]
  },
  {
   "cell_type": "code",
   "execution_count": 27,
   "metadata": {},
   "outputs": [],
   "source": [
    "# Separa a variável target\n",
    "target = load_breast_cancer()[\"target\"]"
   ]
  },
  {
   "cell_type": "code",
   "execution_count": 28,
   "metadata": {},
   "outputs": [
    {
     "data": {
      "text/plain": [
       "array([0, 0, 0, 0, 0, 0, 0, 0, 0, 0, 0, 0, 0, 0, 0, 0, 0, 0, 0, 1, 1, 1,\n",
       "       0, 0, 0, 0, 0, 0, 0, 0, 0, 0, 0, 0, 0, 0, 0, 1, 0, 0, 0, 0, 0, 0,\n",
       "       0, 0, 1, 0, 1, 1, 1, 1, 1, 0, 0, 1, 0, 0, 1, 1, 1, 1, 0, 1, 0, 0,\n",
       "       1, 1, 1, 1, 0, 1, 0, 0, 1, 0, 1, 0, 0, 1, 1, 1, 0, 0, 1, 0, 0, 0,\n",
       "       1, 1, 1, 0, 1, 1, 0, 0, 1, 1, 1, 0, 0, 1, 1, 1, 1, 0, 1, 1, 0, 1,\n",
       "       1, 1, 1, 1, 1, 1, 1, 0, 0, 0, 1, 0, 0, 1, 1, 1, 0, 0, 1, 0, 1, 0,\n",
       "       0, 1, 0, 0, 1, 1, 0, 1, 1, 0, 1, 1, 1, 1, 0, 1, 1, 1, 1, 1, 1, 1,\n",
       "       1, 1, 0, 1, 1, 1, 1, 0, 0, 1, 0, 1, 1, 0, 0, 1, 1, 0, 0, 1, 1, 1,\n",
       "       1, 0, 1, 1, 0, 0, 0, 1, 0, 1, 0, 1, 1, 1, 0, 1, 1, 0, 0, 1, 0, 0,\n",
       "       0, 0, 1, 0, 0, 0, 1, 0, 1, 0, 1, 1, 0, 1, 0, 0, 0, 0, 1, 1, 0, 0,\n",
       "       1, 1, 1, 0, 1, 1, 1, 1, 1, 0, 0, 1, 1, 0, 1, 1, 0, 0, 1, 0, 1, 1,\n",
       "       1, 1, 0, 1, 1, 1, 1, 1, 0, 1, 0, 0, 0, 0, 0, 0, 0, 0, 0, 0, 0, 0,\n",
       "       0, 0, 1, 1, 1, 1, 1, 1, 0, 1, 0, 1, 1, 0, 1, 1, 0, 1, 0, 0, 1, 1,\n",
       "       1, 1, 1, 1, 1, 1, 1, 1, 1, 1, 1, 0, 1, 1, 0, 1, 0, 1, 1, 1, 1, 1,\n",
       "       1, 1, 1, 1, 1, 1, 1, 1, 1, 0, 1, 1, 1, 0, 1, 0, 1, 1, 1, 1, 0, 0,\n",
       "       0, 1, 1, 1, 1, 0, 1, 0, 1, 0, 1, 1, 1, 0, 1, 1, 1, 1, 1, 1, 1, 0,\n",
       "       0, 0, 1, 1, 1, 1, 1, 1, 1, 1, 1, 1, 1, 0, 0, 1, 0, 0, 0, 1, 0, 0,\n",
       "       1, 1, 1, 1, 1, 0, 1, 1, 1, 1, 1, 0, 1, 1, 1, 0, 1, 1, 0, 0, 1, 1,\n",
       "       1, 1, 1, 1, 0, 1, 1, 1, 1, 1, 1, 1, 0, 1, 1, 1, 1, 1, 0, 1, 1, 0,\n",
       "       1, 1, 1, 1, 1, 1, 1, 1, 1, 1, 1, 1, 0, 1, 0, 0, 1, 0, 1, 1, 1, 1,\n",
       "       1, 0, 1, 1, 0, 1, 0, 1, 1, 0, 1, 0, 1, 1, 1, 1, 1, 1, 1, 1, 0, 0,\n",
       "       1, 1, 1, 1, 1, 1, 0, 1, 1, 1, 1, 1, 1, 1, 1, 1, 1, 0, 1, 1, 1, 1,\n",
       "       1, 1, 1, 0, 1, 0, 1, 1, 0, 1, 1, 1, 1, 1, 0, 0, 1, 0, 1, 0, 1, 1,\n",
       "       1, 1, 1, 0, 1, 1, 0, 1, 0, 1, 0, 0, 1, 1, 1, 0, 1, 1, 1, 1, 1, 1,\n",
       "       1, 1, 1, 1, 1, 0, 1, 0, 0, 1, 1, 1, 1, 1, 1, 1, 1, 1, 1, 1, 1, 1,\n",
       "       1, 1, 1, 1, 1, 1, 1, 1, 1, 1, 1, 1, 0, 0, 0, 0, 0, 0, 1])"
      ]
     },
     "execution_count": 28,
     "metadata": {},
     "output_type": "execute_result"
    }
   ],
   "source": [
    "# Visualiza a variável\n",
    "target"
   ]
  },
  {
   "cell_type": "code",
   "execution_count": 29,
   "metadata": {},
   "outputs": [],
   "source": [
    "# Vamos extrair os labels\n",
    "\n",
    "# Dicionário para os labels\n",
    "labels = {}\n",
    "\n",
    "# Nomes das classes da variável target\n",
    "target_names = load_breast_cancer()[\"target_names\"]\n",
    "\n",
    "# Mapeamento\n",
    "for i in range(len(target_names)):\n",
    "    labels.update({i:target_names[i]})"
   ]
  },
  {
   "cell_type": "code",
   "execution_count": 30,
   "metadata": {},
   "outputs": [
    {
     "data": {
      "text/plain": [
       "{0: 'malignant', 1: 'benign'}"
      ]
     },
     "execution_count": 30,
     "metadata": {},
     "output_type": "execute_result"
    }
   ],
   "source": [
    "# Visualiza os labels\n",
    "labels"
   ]
  },
  {
   "cell_type": "code",
   "execution_count": 31,
   "metadata": {},
   "outputs": [],
   "source": [
    "# Agora preparamos as variáveis preditoras em X\n",
    "X = np.array(dados)"
   ]
  },
  {
   "cell_type": "code",
   "execution_count": 32,
   "metadata": {},
   "outputs": [
    {
     "data": {
      "text/plain": [
       "array([[1.799e+01, 1.038e+01, 1.228e+02, ..., 2.654e-01, 4.601e-01,\n",
       "        1.189e-01],\n",
       "       [2.057e+01, 1.777e+01, 1.329e+02, ..., 1.860e-01, 2.750e-01,\n",
       "        8.902e-02],\n",
       "       [1.969e+01, 2.125e+01, 1.300e+02, ..., 2.430e-01, 3.613e-01,\n",
       "        8.758e-02],\n",
       "       ...,\n",
       "       [1.660e+01, 2.808e+01, 1.083e+02, ..., 1.418e-01, 2.218e-01,\n",
       "        7.820e-02],\n",
       "       [2.060e+01, 2.933e+01, 1.401e+02, ..., 2.650e-01, 4.087e-01,\n",
       "        1.240e-01],\n",
       "       [7.760e+00, 2.454e+01, 4.792e+01, ..., 0.000e+00, 2.871e-01,\n",
       "        7.039e-02]])"
      ]
     },
     "execution_count": 32,
     "metadata": {},
     "output_type": "execute_result"
    }
   ],
   "source": [
    "# Visualiza os dados de entrada\n",
    "X"
   ]
  },
  {
   "cell_type": "code",
   "execution_count": 33,
   "metadata": {},
   "outputs": [],
   "source": [
    "# Dividimos os dados de entrada e saída em treino e teste\n",
    "X_treino, X_teste, y_treino, y_teste = train_test_split(X, target, test_size = 0.15, shuffle = True)"
   ]
  },
  {
   "cell_type": "code",
   "execution_count": 34,
   "metadata": {},
   "outputs": [
    {
     "name": "stdout",
     "output_type": "stream",
     "text": [
      "(483, 30)\n",
      "(483,)\n"
     ]
    }
   ],
   "source": [
    "# Shape dos dados de treino\n",
    "print(X_treino.shape)\n",
    "print(y_treino.shape)"
   ]
  },
  {
   "cell_type": "code",
   "execution_count": 35,
   "metadata": {},
   "outputs": [
    {
     "name": "stdout",
     "output_type": "stream",
     "text": [
      "(86, 30)\n",
      "(86,)\n"
     ]
    }
   ],
   "source": [
    "# Shape dos dados de teste\n",
    "print(X_teste.shape)\n",
    "print(y_teste.shape)"
   ]
  },
  {
   "cell_type": "code",
   "execution_count": 36,
   "metadata": {},
   "outputs": [],
   "source": [
    "X_treino = X_treino.T\n",
    "X_teste = X_teste.T"
   ]
  },
  {
   "cell_type": "code",
   "execution_count": 37,
   "metadata": {},
   "outputs": [
    {
     "name": "stdout",
     "output_type": "stream",
     "text": [
      "(30, 483)\n",
      "(30, 86)\n"
     ]
    }
   ],
   "source": [
    "print(X_treino.shape)\n",
    "print(X_teste.shape)"
   ]
  },
  {
   "cell_type": "code",
   "execution_count": 38,
   "metadata": {},
   "outputs": [],
   "source": [
    "y_treino = y_treino.reshape(1, len(y_treino))\n",
    "y_teste = y_teste.reshape(1, len(y_teste))"
   ]
  },
  {
   "cell_type": "code",
   "execution_count": 39,
   "metadata": {},
   "outputs": [
    {
     "name": "stdout",
     "output_type": "stream",
     "text": [
      "(1, 483)\n",
      "(1, 86)\n"
     ]
    }
   ],
   "source": [
    "print(y_treino.shape)\n",
    "print(y_teste.shape)"
   ]
  },
  {
   "cell_type": "code",
   "execution_count": 40,
   "metadata": {},
   "outputs": [],
   "source": [
    "dims_camada_entrada = [X_treino.shape[0],50,20,5,1]"
   ]
  },
  {
   "cell_type": "code",
   "execution_count": 41,
   "metadata": {},
   "outputs": [
    {
     "data": {
      "text/plain": [
       "[30, 50, 20, 5, 1]"
      ]
     },
     "execution_count": 41,
     "metadata": {},
     "output_type": "execute_result"
    }
   ],
   "source": [
    "dims_camada_entrada"
   ]
  },
  {
   "cell_type": "code",
   "execution_count": 42,
   "metadata": {},
   "outputs": [
    {
     "name": "stdout",
     "output_type": "stream",
     "text": [
      "\n",
      "Iniciando o Treinamento.\n",
      "\n",
      "Custo Após 0 iterações é 0.6931622324806815\n",
      "Custo Após 10 iterações é 0.6921155846255543\n",
      "Custo Após 20 iterações é 0.6911078373187187\n",
      "Custo Após 30 iterações é 0.6901371782313057\n",
      "Custo Após 40 iterações é 0.689202140699768\n",
      "Custo Após 50 iterações é 0.688301372482919\n",
      "Custo Após 60 iterações é 0.6874335936700763\n",
      "Custo Após 70 iterações é 0.6865975571513737\n",
      "Custo Após 80 iterações é 0.6857922151319542\n",
      "Custo Após 90 iterações é 0.6850177135015789\n",
      "Custo Após 100 iterações é 0.6842718268795459\n",
      "Custo Após 110 iterações é 0.6835533742224567\n",
      "Custo Após 120 iterações é 0.6828613326806431\n",
      "Custo Após 130 iterações é 0.6821947183015504\n",
      "Custo Após 140 iterações é 0.6815525902454126\n",
      "Custo Após 150 iterações é 0.6809340306070307\n",
      "Custo Após 160 iterações é 0.6803381806095509\n",
      "Custo Após 170 iterações é 0.6797641845992787\n",
      "Custo Após 180 iterações é 0.6792112260007211\n",
      "Custo Após 190 iterações é 0.6786785217859548\n",
      "Custo Após 200 iterações é 0.6781653148727399\n",
      "Custo Após 210 iterações é 0.6776708606470324\n",
      "Custo Após 220 iterações é 0.677194425331108\n",
      "Custo Após 230 iterações é 0.6767352840074891\n",
      "Custo Após 240 iterações é 0.6762928261721084\n",
      "Custo Após 250 iterações é 0.6758665183490443\n",
      "Custo Após 260 iterações é 0.6754557667735834\n",
      "Custo Após 270 iterações é 0.6750599933053135\n",
      "Custo Após 280 iterações é 0.6746786471759972\n",
      "Custo Após 290 iterações é 0.6743111841793679\n",
      "Custo Após 300 iterações é 0.673957090991707\n",
      "Custo Após 310 iterações é 0.6736158688219799\n",
      "Custo Após 320 iterações é 0.6732870358496723\n",
      "Custo Após 330 iterações é 0.6729701372763333\n",
      "Custo Após 340 iterações é 0.6726647321551701\n",
      "Custo Após 350 iterações é 0.672370389618767\n",
      "Custo Após 360 iterações é 0.6720866987317164\n",
      "Custo Após 370 iterações é 0.6718132624498037\n",
      "Custo Após 380 iterações é 0.6715497034778218\n",
      "Custo Após 390 iterações é 0.6712956491053049\n",
      "Custo Após 400 iterações é 0.6710507435787257\n",
      "Custo Após 410 iterações é 0.6708146481762668\n",
      "Custo Após 420 iterações é 0.6705870364400569\n",
      "Custo Após 430 iterações é 0.6703675890203707\n",
      "Custo Após 440 iterações é 0.6701560020635237\n",
      "Custo Após 450 iterações é 0.6699519819448181\n",
      "Custo Após 460 iterações é 0.6697552443693618\n",
      "Custo Após 470 iterações é 0.669565520548406\n",
      "Custo Após 480 iterações é 0.6693825476850379\n",
      "Custo Após 490 iterações é 0.6692060700554354\n",
      "Custo Após 500 iterações é 0.6690358410976242\n",
      "Custo Após 510 iterações é 0.668871623893961\n",
      "Custo Após 520 iterações é 0.6687131908286285\n",
      "Custo Após 530 iterações é 0.6685603221276191\n",
      "Custo Após 540 iterações é 0.668412804093274\n",
      "Custo Após 550 iterações é 0.6682704305203285\n",
      "Custo Após 560 iterações é 0.6681330015760523\n",
      "Custo Após 570 iterações é 0.6680003235713178\n",
      "Custo Após 580 iterações é 0.6678722092750513\n",
      "Custo Após 590 iterações é 0.6677484787675941\n",
      "Custo Após 600 iterações é 0.6676289542682912\n",
      "Custo Após 610 iterações é 0.6675134618936024\n",
      "Custo Após 620 iterações é 0.667401838697463\n",
      "Custo Após 630 iterações é 0.6672939215801761\n",
      "Custo Após 640 iterações é 0.6671895501692261\n",
      "Custo Após 650 iterações é 0.6670885673365133\n",
      "Custo Após 660 iterações é 0.6669908237638672\n",
      "Custo Após 670 iterações é 0.6668961689459969\n",
      "Custo Após 680 iterações é 0.6668044525217618\n",
      "Custo Após 690 iterações é 0.6667155263753773\n",
      "Custo Após 700 iterações é 0.6666292436726474\n",
      "Custo Após 710 iterações é 0.6665454616687416\n",
      "Custo Após 720 iterações é 0.6664640339941349\n",
      "Custo Após 730 iterações é 0.6663848110136236\n",
      "Custo Após 740 iterações é 0.6663076368330642\n",
      "Custo Após 750 iterações é 0.6662323608995077\n",
      "Custo Após 760 iterações é 0.6661588236912336\n",
      "Custo Após 770 iterações é 0.6660868556122436\n",
      "Custo Após 780 iterações é 0.6660162888538902\n",
      "Custo Após 790 iterações é 0.6659469347244046\n",
      "Custo Após 800 iterações é 0.6658785922548891\n",
      "Custo Após 810 iterações é 0.6658110387466877\n",
      "Custo Após 820 iterações é 0.6657440286445221\n",
      "Custo Após 830 iterações é 0.6656772991780148\n",
      "Custo Após 840 iterações é 0.6656105621914464\n",
      "Custo Após 850 iterações é 0.6655434659351643\n",
      "Custo Após 860 iterações é 0.6654756140311355\n",
      "Custo Após 870 iterações é 0.665406536374186\n",
      "Custo Após 880 iterações é 0.6653356841438448\n",
      "Custo Após 890 iterações é 0.6652624215052223\n",
      "Custo Após 900 iterações é 0.6651859492062413\n",
      "Custo Após 910 iterações é 0.6651052996706668\n",
      "Custo Após 920 iterações é 0.6650192535548849\n",
      "Custo Após 930 iterações é 0.6649263017308927\n",
      "Custo Após 940 iterações é 0.6648244892027617\n",
      "Custo Após 950 iterações é 0.6647113071970804\n",
      "Custo Após 960 iterações é 0.6645833867341634\n",
      "Custo Após 970 iterações é 0.6644362275970999\n",
      "Custo Após 980 iterações é 0.6642637120186929\n",
      "Custo Após 990 iterações é 0.6640572421192851\n",
      "Custo Após 1000 iterações é 0.6638045209256361\n",
      "Custo Após 1010 iterações é 0.6634875021287945\n",
      "Custo Após 1020 iterações é 0.6630788135383052\n",
      "Custo Após 1030 iterações é 0.6625356663294911\n",
      "Custo Após 1040 iterações é 0.6617881415333765\n",
      "Custo Após 1050 iterações é 0.6607160737247625\n",
      "Custo Após 1060 iterações é 0.6591031493007449\n",
      "Custo Após 1070 iterações é 0.6565366176513445\n",
      "Custo Após 1080 iterações é 0.6521894658120206\n",
      "Custo Após 1090 iterações é 0.6444088533628105\n",
      "Custo Após 1100 iterações é 0.6306533087288734\n",
      "Custo Após 1110 iterações é 0.6121134108122628\n",
      "Custo Após 1120 iterações é 0.6003458764899393\n",
      "Custo Após 1130 iterações é 0.5962229827851188\n",
      "Custo Após 1140 iterações é 0.5934551465472964\n",
      "Custo Após 1150 iterações é 0.59075265813968\n",
      "Custo Após 1160 iterações é 0.5880258287547793\n",
      "Custo Após 1170 iterações é 0.5852642144520809\n",
      "Custo Após 1180 iterações é 0.5824596680769702\n",
      "Custo Após 1190 iterações é 0.5796025075127108\n",
      "Custo Após 1200 iterações é 0.5766808427100318\n",
      "Custo Após 1210 iterações é 0.5736795936556112\n",
      "Custo Após 1220 iterações é 0.5705798702068058\n",
      "Custo Após 1230 iterações é 0.5673573801581625\n",
      "Custo Após 1240 iterações é 0.5639808200836419\n",
      "Custo Após 1250 iterações é 0.5604081481645604\n",
      "Custo Após 1260 iterações é 0.5565830492791835\n",
      "Custo Após 1270 iterações é 0.5524285079944232\n",
      "Custo Após 1280 iterações é 0.5478382425979892\n",
      "Custo Após 1290 iterações é 0.5426607151270287\n",
      "Custo Após 1300 iterações é 0.5366802647472106\n",
      "Custo Após 1310 iterações é 0.529606119220017\n",
      "Custo Após 1320 iterações é 0.5211190087470263\n",
      "Custo Após 1330 iterações é 0.510653456953796\n",
      "Custo Após 1340 iterações é 0.4974721073532941\n",
      "Custo Após 1350 iterações é 0.48090610687212276\n",
      "Custo Após 1360 iterações é 0.461503299190166\n",
      "Custo Após 1370 iterações é 0.4409307489864202\n",
      "Custo Após 1380 iterações é 0.422034084629712\n",
      "Custo Após 1390 iterações é 0.47741351214665445\n",
      "Custo Após 1400 iterações é 0.44694875376644994\n",
      "Custo Após 1410 iterações é 0.4461198579061011\n",
      "Custo Após 1420 iterações é 0.44258507218619786\n",
      "Custo Após 1430 iterações é 0.4366654268906657\n",
      "Custo Após 1440 iterações é 0.4316976161972608\n",
      "Custo Após 1450 iterações é 0.42819818838147117\n",
      "Custo Após 1460 iterações é 0.4220151185515264\n",
      "Custo Após 1470 iterações é 0.41910578330658493\n",
      "Custo Após 1480 iterações é 0.4148028067020355\n",
      "Custo Após 1490 iterações é 0.4102747226188059\n",
      "Custo Após 1500 iterações é 0.40508535162907716\n",
      "Custo Após 1510 iterações é 0.3997256527761236\n",
      "Custo Após 1520 iterações é 0.3948741432793848\n",
      "Custo Após 1530 iterações é 0.3903835331481128\n",
      "Custo Após 1540 iterações é 0.3826649083938039\n",
      "Custo Após 1550 iterações é 0.38392335042787656\n",
      "Custo Após 1560 iterações é 0.37642717707322443\n",
      "Custo Após 1570 iterações é 0.37627854781748443\n",
      "Custo Após 1580 iterações é 0.37027817578477695\n",
      "Custo Após 1590 iterações é 0.3622485000011578\n",
      "Custo Após 1600 iterações é 0.36137175781754954\n",
      "Custo Após 1610 iterações é 0.3599508275247125\n",
      "Custo Após 1620 iterações é 0.3553432984677023\n",
      "Custo Após 1630 iterações é 0.3519258229485005\n",
      "Custo Após 1640 iterações é 0.3497093358709643\n",
      "Custo Após 1650 iterações é 0.3494586159919283\n",
      "Custo Após 1660 iterações é 0.346507606293143\n",
      "Custo Após 1670 iterações é 0.34190338184887\n",
      "Custo Após 1680 iterações é 0.3414856031106746\n",
      "Custo Após 1690 iterações é 0.33973636022990983\n",
      "Custo Após 1700 iterações é 0.3334268112739372\n",
      "Custo Após 1710 iterações é 0.33079125965262696\n",
      "Custo Após 1720 iterações é 0.33356916250494545\n",
      "Custo Após 1730 iterações é 0.3293958696714646\n",
      "Custo Após 1740 iterações é 0.3289280006468699\n",
      "Custo Após 1750 iterações é 0.3246427920546589\n",
      "Custo Após 1760 iterações é 0.32739345957169735\n"
     ]
    },
    {
     "name": "stdout",
     "output_type": "stream",
     "text": [
      "Custo Após 1770 iterações é 0.3218595753021529\n",
      "Custo Após 1780 iterações é 0.3211178427169487\n",
      "Custo Após 1790 iterações é 0.3210531512972971\n",
      "Custo Após 1800 iterações é 0.3218713884557275\n",
      "Custo Após 1810 iterações é 0.31794887198128136\n",
      "Custo Após 1820 iterações é 0.3163817436023426\n",
      "Custo Após 1830 iterações é 0.3127650004536229\n",
      "Custo Após 1840 iterações é 0.3134096086694474\n",
      "Custo Após 1850 iterações é 0.3073099239070398\n",
      "Custo Após 1860 iterações é 0.30784433169805897\n",
      "Custo Após 1870 iterações é 0.305166576636399\n",
      "Custo Após 1880 iterações é 0.30233213712578794\n",
      "Custo Após 1890 iterações é 0.29930010297296833\n",
      "Custo Após 1900 iterações é 0.3012688936826924\n",
      "Custo Após 1910 iterações é 0.2995357927849782\n",
      "Custo Após 1920 iterações é 0.2965055222854867\n",
      "Custo Após 1930 iterações é 0.29677695682220234\n",
      "Custo Após 1940 iterações é 0.29581101481515387\n",
      "Custo Após 1950 iterações é 0.29541146835392934\n",
      "Custo Após 1960 iterações é 0.2918046162584053\n",
      "Custo Após 1970 iterações é 0.29133246368299215\n",
      "Custo Após 1980 iterações é 0.29376319141240625\n",
      "Custo Após 1990 iterações é 0.29134159222229106\n",
      "Custo Após 2000 iterações é 0.2886778890340729\n",
      "Custo Após 2010 iterações é 0.28760690480750156\n",
      "Custo Após 2020 iterações é 0.28441339511322883\n",
      "Custo Após 2030 iterações é 0.28628226883358\n",
      "Custo Após 2040 iterações é 0.28368629599668277\n",
      "Custo Após 2050 iterações é 0.2838915842871005\n",
      "Custo Após 2060 iterações é 0.2862340978509396\n",
      "Custo Após 2070 iterações é 0.27826498139797085\n",
      "Custo Após 2080 iterações é 0.2693176818211184\n",
      "Custo Após 2090 iterações é 0.27265203038427205\n",
      "Custo Após 2100 iterações é 0.2756133085344672\n",
      "Custo Após 2110 iterações é 0.2780631867236989\n",
      "Custo Após 2120 iterações é 0.27761543340500755\n",
      "Custo Após 2130 iterações é 0.27811694988211\n",
      "Custo Após 2140 iterações é 0.27249258031425466\n",
      "Custo Após 2150 iterações é 0.2739523447734818\n",
      "Custo Após 2160 iterações é 0.27558667827674305\n",
      "Custo Após 2170 iterações é 0.27220911505778794\n",
      "Custo Após 2180 iterações é 0.27547260742986446\n",
      "Custo Após 2190 iterações é 0.27561021879339787\n",
      "Custo Após 2200 iterações é 0.2644997558515189\n",
      "Custo Após 2210 iterações é 0.26206653673425734\n",
      "Custo Após 2220 iterações é 0.2588842815211002\n",
      "Custo Após 2230 iterações é 0.2612611867358107\n",
      "Custo Após 2240 iterações é 0.2620321520207544\n",
      "Custo Após 2250 iterações é 0.2682323300877116\n",
      "Custo Após 2260 iterações é 0.27811946735574433\n",
      "Custo Após 2270 iterações é 0.2767172561984841\n",
      "Custo Após 2280 iterações é 0.27252382716672446\n",
      "Custo Após 2290 iterações é 0.2713530029226805\n",
      "Custo Após 2300 iterações é 0.2580223386076289\n",
      "Custo Após 2310 iterações é 0.2516012242082615\n",
      "Custo Após 2320 iterações é 0.2608883521962342\n",
      "Custo Após 2330 iterações é 0.26162279003255995\n",
      "Custo Após 2340 iterações é 0.2535104898893341\n",
      "Custo Após 2350 iterações é 0.2514251151407042\n",
      "Custo Após 2360 iterações é 0.2553554684337623\n",
      "Custo Após 2370 iterações é 0.254394598858007\n",
      "Custo Após 2380 iterações é 0.262318090261069\n",
      "Custo Após 2390 iterações é 0.25495119528957577\n",
      "Custo Após 2400 iterações é 0.2548294585934413\n",
      "Custo Após 2410 iterações é 0.25151126305710597\n",
      "Custo Após 2420 iterações é 0.24612991509890442\n",
      "Custo Após 2430 iterações é 0.2534383476990118\n",
      "Custo Após 2440 iterações é 0.2591219205348425\n",
      "Custo Após 2450 iterações é 0.2608916361815054\n",
      "Custo Após 2460 iterações é 0.25900658787903363\n",
      "Custo Após 2470 iterações é 0.2519549083491073\n",
      "Custo Após 2480 iterações é 0.24612949727631783\n",
      "Custo Após 2490 iterações é 0.24986881434119987\n",
      "Custo Após 2500 iterações é 0.2549171370236359\n",
      "Custo Após 2510 iterações é 0.24885767831102154\n",
      "Custo Após 2520 iterações é 0.24169315396094077\n",
      "Custo Após 2530 iterações é 0.25405383648696317\n",
      "Custo Após 2540 iterações é 0.2503951619967851\n",
      "Custo Após 2550 iterações é 0.24500181501533846\n",
      "Custo Após 2560 iterações é 0.2454080450188913\n",
      "Custo Após 2570 iterações é 0.2485500037377133\n",
      "Custo Após 2580 iterações é 0.25008352486855995\n",
      "Custo Após 2590 iterações é 0.25177702360539267\n",
      "Custo Após 2600 iterações é 0.2449052883365266\n",
      "Custo Após 2610 iterações é 0.24162059360674024\n",
      "Custo Após 2620 iterações é 0.24132723636615494\n",
      "Custo Após 2630 iterações é 0.2540538133305643\n",
      "Custo Após 2640 iterações é 0.247371398060533\n",
      "Custo Após 2650 iterações é 0.24457927087858003\n",
      "Custo Após 2660 iterações é 0.24255104430909177\n",
      "Custo Após 2670 iterações é 0.24319101095173942\n",
      "Custo Após 2680 iterações é 0.24839535250829192\n",
      "Custo Após 2690 iterações é 0.2435669398056274\n",
      "Custo Após 2700 iterações é 0.24463370955146416\n",
      "Custo Após 2710 iterações é 0.24372891433443525\n",
      "Custo Após 2720 iterações é 0.24841869821405443\n",
      "Custo Após 2730 iterações é 0.24270412342776013\n",
      "Custo Após 2740 iterações é 0.24259897761081745\n",
      "Custo Após 2750 iterações é 0.24107958101916158\n",
      "Custo Após 2760 iterações é 0.23792634585668823\n",
      "Custo Após 2770 iterações é 0.23445130277957804\n",
      "Custo Após 2780 iterações é 0.24569943522682616\n",
      "Custo Após 2790 iterações é 0.24701955618096375\n",
      "Custo Após 2800 iterações é 0.24359428482634812\n",
      "Custo Após 2810 iterações é 0.24252564436776267\n",
      "Custo Após 2820 iterações é 0.23710748371551657\n",
      "Custo Após 2830 iterações é 0.22955782915426926\n",
      "Custo Após 2840 iterações é 0.22925893763115554\n",
      "Custo Após 2850 iterações é 0.24116164604363277\n",
      "Custo Após 2860 iterações é 0.24036809759713126\n",
      "Custo Após 2870 iterações é 0.23741244416043186\n",
      "Custo Após 2880 iterações é 0.2387873053959041\n",
      "Custo Após 2890 iterações é 0.24030574744371228\n",
      "Custo Após 2900 iterações é 0.2431672883451989\n",
      "Custo Após 2910 iterações é 0.23466447493198514\n",
      "Custo Após 2920 iterações é 0.22776277805685144\n",
      "Custo Após 2930 iterações é 0.23819336150771142\n",
      "Custo Após 2940 iterações é 0.24075771290651785\n",
      "Custo Após 2950 iterações é 0.23336977900457798\n",
      "Custo Após 2960 iterações é 0.22571374145319498\n",
      "Custo Após 2970 iterações é 0.22794605308239954\n",
      "Custo Após 2980 iterações é 0.23176573020345223\n",
      "Custo Após 2990 iterações é 0.240763374234977\n",
      "\n",
      "Treinamento Concluído.\n",
      "\n"
     ]
    }
   ],
   "source": [
    "# Treinamento do modelo\n",
    "\n",
    "print(\"\\nIniciando o Treinamento.\\n\")\n",
    "\n",
    "parameters, costs = modeloNN(X = X_treino, \n",
    "                             Y = y_treino, \n",
    "                             dims_camada_entrada = dims_camada_entrada, \n",
    "                             num_iterations = 3000, \n",
    "                             learning_rate = 0.0075)\n",
    "\n",
    "print(\"\\nTreinamento Concluído.\\n\")"
   ]
  },
  {
   "cell_type": "code",
   "execution_count": 43,
   "metadata": {},
   "outputs": [
    {
     "data": {
      "text/plain": [
       "[<matplotlib.lines.Line2D at 0x7fb463a63dd0>]"
      ]
     },
     "execution_count": 43,
     "metadata": {},
     "output_type": "execute_result"
    },
    {
     "data": {
      "image/png": "[encoded data removed]",
      "text/plain": [
       "<Figure size 432x288 with 1 Axes>"
      ]
     },
     "metadata": {
      "needs_background": "light"
     },
     "output_type": "display_data"
    }
   ],
   "source": [
    "# Plot do erro durante o treinamento\n",
    "plt.plot(costs)"
   ]
  },
  {
   "cell_type": "code",
   "execution_count": 44,
   "metadata": {},
   "outputs": [],
   "source": [
    "# Previsões com os dados de treino\n",
    "y_pred_treino = predict(X_treino, parameters)"
   ]
  },
  {
   "cell_type": "code",
   "execution_count": 45,
   "metadata": {},
   "outputs": [
    {
     "data": {
      "text/plain": [
       "array([[8.61903575e-01, 8.62014963e-01, 8.47149265e-01, 8.61872784e-01,\n",
       "        3.77177446e-07, 8.61941083e-01, 8.49623660e-01, 8.53901664e-01,\n",
       "        8.61946482e-01, 8.61915659e-01, 8.03673938e-01, 2.38566433e-09,\n",
       "        8.61984234e-01, 1.47015035e-01, 1.18872394e-05, 1.24991875e-01,\n",
       "        8.61779341e-01, 7.61661321e-14, 8.61874068e-01, 8.61906751e-01,\n",
       "        1.38668555e-05, 7.38682311e-05, 8.53673997e-01, 5.44888889e-03,\n",
       "        8.61895524e-01, 8.61869264e-01, 8.43067561e-01, 2.76280747e-02,\n",
       "        8.61913842e-01, 8.62018215e-01, 8.61875755e-01, 8.61875177e-01,\n",
       "        6.15609037e-01, 8.61847751e-01, 9.47244721e-03, 1.00936967e-01,\n",
       "        7.71299255e-01, 8.57136984e-01, 7.92710948e-16, 3.77498801e-03,\n",
       "        8.61902445e-01, 3.21083374e-02, 8.61913114e-01, 8.57000765e-01,\n",
       "        2.64626677e-07, 8.90899441e-09, 8.61927263e-01, 8.46974339e-01,\n",
       "        8.61961700e-01, 2.27640516e-17, 8.61030813e-01, 4.06528183e-01,\n",
       "        8.61896447e-01, 8.34463810e-01, 1.08772190e-03, 8.50137924e-01,\n",
       "        2.24060697e-02, 8.61962940e-01, 6.48284731e-17, 1.68536434e-06,\n",
       "        5.27757102e-01, 8.61918178e-01, 1.77806197e-01, 8.61901380e-01,\n",
       "        8.08396673e-01, 8.61978135e-01, 8.61999089e-01, 8.59699086e-01,\n",
       "        7.61100481e-04, 8.58250082e-01, 4.22276873e-01, 8.61900460e-01,\n",
       "        8.61949031e-01, 8.61967278e-01, 7.49239033e-01, 8.61888706e-01,\n",
       "        8.61881140e-01, 8.61893195e-01, 8.27764462e-01, 8.61889810e-01,\n",
       "        2.16168663e-01, 8.61861814e-01, 4.17802694e-25, 8.61888900e-01,\n",
       "        8.61902299e-01, 8.61996381e-01, 8.61913996e-01, 8.61943869e-01,\n",
       "        5.63059291e-05, 8.61868354e-01, 8.61876758e-01, 8.61907765e-01,\n",
       "        8.61993362e-01, 1.17692132e-03, 8.47653237e-01, 1.33604939e-04,\n",
       "        8.61968077e-01, 5.86140000e-06, 8.61989910e-01, 8.61933687e-01,\n",
       "        1.48851166e-01, 1.77045202e-01, 8.61905719e-01, 8.36372954e-01,\n",
       "        8.43575262e-01, 3.77875115e-14, 8.61893105e-01, 4.48439827e-02,\n",
       "        1.56978673e-05, 6.53400077e-01, 8.61256711e-01, 3.26531506e-03,\n",
       "        7.31266021e-04, 8.61971038e-01, 8.61923716e-01, 8.61944760e-01,\n",
       "        4.14580998e-01, 8.30231979e-01, 8.61961495e-01, 8.61908968e-01,\n",
       "        8.61898023e-01, 8.61897028e-01, 2.43823782e-01, 4.49863520e-04,\n",
       "        8.61957567e-01, 7.23151261e-02, 1.48107894e-01, 8.61935727e-01,\n",
       "        8.61886339e-01, 8.61861937e-01, 8.61916038e-01, 1.46660255e-05,\n",
       "        2.37520130e-01, 7.94262688e-05, 8.62001790e-01, 7.94617582e-01,\n",
       "        8.61902882e-01, 1.08050468e-07, 8.61881356e-01, 6.84269129e-03,\n",
       "        8.60844633e-01, 8.62019115e-01, 8.61885512e-01, 5.96334908e-03,\n",
       "        7.31571716e-01, 8.61909005e-01, 1.41662010e-04, 2.41773162e-04,\n",
       "        8.61864632e-01, 6.77684284e-01, 8.61929748e-01, 1.54015661e-05,\n",
       "        8.61884847e-01, 8.61445377e-01, 8.47585603e-01, 8.61968499e-01,\n",
       "        6.58717954e-01, 8.62006178e-01, 8.61920971e-01, 8.61939051e-01,\n",
       "        3.54641629e-01, 8.61891280e-01, 8.61912234e-01, 8.61941872e-01,\n",
       "        4.34765214e-04, 8.61896763e-01, 8.62006814e-01, 8.56600232e-01,\n",
       "        8.61947411e-01, 8.09815463e-01, 2.33237157e-06, 8.61954783e-01,\n",
       "        1.23063397e-07, 8.31719543e-01, 8.09030218e-01, 4.62005419e-02,\n",
       "        8.61888569e-01, 7.72445567e-01, 8.62014405e-01, 1.86500214e-04,\n",
       "        8.42459943e-01, 4.92033513e-01, 1.38076933e-05, 8.49706143e-01,\n",
       "        1.06202979e-04, 8.61886190e-01, 6.12094848e-06, 8.61896572e-01,\n",
       "        8.57423960e-01, 8.62069976e-01, 7.05531632e-03, 8.61925222e-01,\n",
       "        8.30735237e-03, 8.61882804e-01, 8.61906690e-01, 8.61903293e-01,\n",
       "        8.61875250e-01, 8.57980562e-01, 8.61998714e-01, 1.57449534e-01,\n",
       "        8.61894667e-01, 8.61915029e-01, 5.99435966e-01, 8.14531430e-01,\n",
       "        2.08185695e-04, 8.61894982e-01, 8.61982999e-01, 3.86194731e-05,\n",
       "        8.61879128e-01, 1.33320803e-07, 8.56509197e-01, 8.61900769e-01,\n",
       "        8.61886799e-01, 8.50526983e-01, 8.61904340e-01, 1.41536016e-06,\n",
       "        2.09144383e-02, 8.62035297e-01, 8.61902820e-01, 8.61991536e-01,\n",
       "        8.59660261e-01, 8.61902719e-01, 8.61889742e-01, 8.61932429e-01,\n",
       "        8.21857644e-01, 8.56079317e-01, 8.08652727e-30, 1.43197453e-02,\n",
       "        2.66462511e-02, 6.91262665e-04, 8.62005351e-01, 8.61959667e-01,\n",
       "        3.65626353e-13, 4.03439074e-02, 2.18957470e-03, 5.34092565e-01,\n",
       "        8.61904564e-01, 8.36912020e-01, 1.37751404e-02, 8.61966764e-01,\n",
       "        8.40703531e-01, 2.23283011e-09, 8.30618966e-01, 3.72171531e-06,\n",
       "        8.55301083e-01, 8.61957184e-01, 2.13961586e-05, 2.83861241e-04,\n",
       "        8.61999031e-01, 5.29113799e-09, 8.61905793e-01, 8.61892387e-01,\n",
       "        8.61868816e-01, 8.37098864e-01, 8.61929598e-01, 1.00812476e-13,\n",
       "        8.62014821e-01, 8.61903036e-01, 8.61972812e-01, 2.31769676e-10,\n",
       "        8.61878947e-01, 8.61884987e-01, 8.61930989e-01, 3.47836729e-02,\n",
       "        8.61900187e-01, 8.47458857e-01, 8.61927414e-01, 7.54907866e-01,\n",
       "        8.61916808e-01, 8.62031479e-01, 8.61905385e-01, 3.57002853e-01,\n",
       "        8.58131291e-01, 7.36517090e-01, 8.49001069e-01, 6.05112224e-01,\n",
       "        8.61889546e-01, 1.19253219e-09, 2.93844930e-05, 1.29339720e-08,\n",
       "        8.61998845e-01, 3.46680079e-08, 8.61972170e-01, 7.48246560e-06,\n",
       "        8.61995190e-01, 1.15552241e-04, 8.21964330e-01, 8.61908599e-01,\n",
       "        9.58350321e-02, 8.61903454e-01, 6.44763259e-01, 2.65383414e-02,\n",
       "        8.61897060e-01, 8.61876363e-01, 3.56878801e-03, 7.97456366e-01,\n",
       "        1.50427316e-05, 7.44622493e-02, 9.86051585e-02, 8.61937507e-01,\n",
       "        3.04511577e-02, 8.54252371e-01, 8.61889925e-01, 8.61875320e-01,\n",
       "        8.61922629e-01, 8.61957765e-01, 8.61878118e-01, 8.61901936e-01,\n",
       "        8.61906224e-01, 8.61884169e-01, 2.81419806e-04, 1.94379219e-05,\n",
       "        2.56275020e-09, 8.61883842e-01, 8.61928887e-01, 8.62022057e-01,\n",
       "        8.61917306e-01, 7.94807406e-01, 7.41801978e-01, 1.99626884e-10,\n",
       "        5.71215410e-01, 8.54278028e-01, 3.51173290e-11, 8.61865272e-01,\n",
       "        8.45842103e-01, 8.61901373e-01, 8.61882574e-01, 7.20366888e-01,\n",
       "        1.05405699e-31, 2.40414109e-02, 8.49815716e-01, 8.61854690e-01,\n",
       "        8.61966582e-01, 6.28673096e-08, 8.61882907e-01, 7.34162933e-01,\n",
       "        3.18809822e-01, 1.50692164e-01, 1.10961278e-18, 1.65860984e-04,\n",
       "        8.19904301e-01, 8.61878801e-01, 8.61993092e-01, 8.16942233e-01,\n",
       "        4.98106050e-01, 9.64166412e-07, 6.80725907e-03, 8.61893716e-01,\n",
       "        8.61874893e-01, 8.61943641e-01, 8.61896130e-01, 5.48064468e-03,\n",
       "        8.61890570e-01, 8.50568064e-01, 8.61912252e-01, 8.61034204e-01,\n",
       "        1.16710098e-02, 9.59737644e-06, 8.61966502e-01, 8.60850863e-01,\n",
       "        8.60609923e-01, 1.46043768e-09, 4.16844012e-01, 1.00000823e-06,\n",
       "        8.21458837e-01, 8.61903371e-01, 6.25530040e-01, 8.61969741e-01,\n",
       "        8.61953540e-01, 8.61909880e-01, 8.62044745e-01, 8.61880528e-01,\n",
       "        8.61961290e-01, 2.14285335e-03, 8.61866561e-01, 8.41850333e-01,\n",
       "        8.62042987e-01, 8.61943773e-01, 8.61906500e-01, 8.16645006e-01,\n",
       "        1.39424975e-01, 3.89010554e-05, 8.61990525e-01, 8.61883233e-01,\n",
       "        8.61929754e-01, 8.61972853e-01, 8.61883855e-01, 2.73270552e-10,\n",
       "        8.61886609e-01, 8.61878957e-01, 8.61946556e-01, 8.61897146e-01,\n",
       "        2.69425491e-09, 6.07517745e-05, 4.67227200e-06, 1.57341664e-17,\n",
       "        8.61888287e-01, 7.86262831e-01, 8.61903627e-01, 4.31935529e-05,\n",
       "        8.61887724e-01, 8.61893045e-01, 8.61994423e-01, 6.58172977e-01,\n",
       "        8.61906666e-01, 7.57004815e-03, 8.61854624e-01, 6.88534668e-03,\n",
       "        8.61891437e-01, 7.33481604e-02, 8.62017153e-01, 8.61890668e-01,\n",
       "        8.61995823e-01, 8.61881103e-01, 8.36099300e-01, 8.61895218e-01,\n",
       "        8.60549065e-01, 8.61892621e-01, 8.61910320e-01, 3.89637917e-03,\n",
       "        8.61925484e-01, 8.60729169e-01, 2.79651713e-14, 8.33174566e-01,\n",
       "        8.61941900e-01, 8.61877778e-01, 8.50577537e-01, 8.61889446e-01,\n",
       "        8.61898154e-01, 8.61907949e-01, 8.27197325e-01, 8.61906093e-01,\n",
       "        8.61877500e-01, 6.63177355e-03, 8.61813805e-01, 8.22969573e-01,\n",
       "        8.51280269e-01, 8.61916077e-01, 8.61872147e-01, 1.94114463e-04,\n",
       "        8.61898402e-01, 8.61984474e-01, 7.06845999e-05, 8.61894682e-01,\n",
       "        8.33466425e-01, 8.61877171e-01, 8.62020624e-01, 8.61881866e-01,\n",
       "        8.61883563e-01, 7.98532896e-05, 8.55164187e-01, 8.61973597e-01,\n",
       "        1.37560934e-01, 1.37126025e-07, 5.33184942e-01, 8.61882128e-01,\n",
       "        9.65351555e-04, 8.61889275e-01, 2.56799654e-06, 5.53656282e-02,\n",
       "        3.20585640e-04, 8.61868217e-01, 8.62003594e-01, 8.61959597e-01,\n",
       "        8.59811060e-01, 8.59091097e-01, 5.83162468e-01, 8.62018796e-01,\n",
       "        4.00947710e-10, 4.55695487e-01, 8.61879168e-01, 8.61910447e-01,\n",
       "        8.61912025e-01, 7.78687644e-01, 8.61941208e-01, 4.59359293e-08,\n",
       "        2.00397326e-03, 6.37741134e-01, 8.26045597e-01, 3.51331214e-19,\n",
       "        8.46725368e-01, 8.61895783e-01, 9.74603051e-05]])"
      ]
     },
     "execution_count": 45,
     "metadata": {},
     "output_type": "execute_result"
    }
   ],
   "source": [
    "# Visualiza as previsões\n",
    "y_pred_treino"
   ]
  },
  {
   "cell_type": "code",
   "execution_count": 46,
   "metadata": {},
   "outputs": [],
   "source": [
    "# Ajustamos o shape em treino\n",
    "y_pred_treino = y_pred_treino.reshape(-1)\n",
    "y_treino = y_treino.reshape(-1)"
   ]
  },
  {
   "cell_type": "code",
   "execution_count": 47,
   "metadata": {},
   "outputs": [],
   "source": [
    "# Convertemos as previsões para o valor binário de classe (0 ou 1, usando como threshold o valor de 0.5\n",
    "y_pred_treino = 1 * (y_pred_treino > 0.5)"
   ]
  },
  {
   "cell_type": "code",
   "execution_count": 48,
   "metadata": {},
   "outputs": [],
   "source": [
    "# Calculamos a acurácia comparando valor real com valor previsto\n",
    "acc_treino = sum(1 * (y_pred_treino == y_treino)) / len(y_pred_treino) * 100"
   ]
  },
  {
   "cell_type": "code",
   "execution_count": 49,
   "metadata": {},
   "outputs": [
    {
     "name": "stdout",
     "output_type": "stream",
     "text": [
      "Acurácia nos dados de treino: 92.13250517598344\n"
     ]
    }
   ],
   "source": [
    "print(\"Acurácia nos dados de treino: \" + str(acc_treino))"
   ]
  },
  {
   "cell_type": "code",
   "execution_count": 50,
   "metadata": {},
   "outputs": [
    {
     "name": "stdout",
     "output_type": "stream",
     "text": [
      "              precision    recall  f1-score   support\n",
      "\n",
      "     Maligno       0.98      0.81      0.89       184\n",
      "     Benigno       0.89      0.99      0.94       299\n",
      "\n",
      "    accuracy                           0.92       483\n",
      "   macro avg       0.94      0.90      0.91       483\n",
      "weighted avg       0.93      0.92      0.92       483\n",
      "\n"
     ]
    }
   ],
   "source": [
    "print(classification_report(y_treino, y_pred_treino, target_names = ['Maligno', 'Benigno']))"
   ]
  },
  {
   "cell_type": "code",
   "execution_count": 51,
   "metadata": {},
   "outputs": [],
   "source": [
    "# Previsões com o modelo usando dados de teste\n",
    "y_pred_teste = predict(X_teste, parameters)"
   ]
  },
  {
   "cell_type": "code",
   "execution_count": 52,
   "metadata": {},
   "outputs": [
    {
     "data": {
      "text/plain": [
       "array([[8.62019857e-01, 8.61893885e-01, 8.61986707e-01, 8.61908563e-01,\n",
       "        8.61926019e-01, 8.61907298e-01, 8.61975904e-01, 8.61963396e-01,\n",
       "        8.61947307e-01, 1.40753606e-01, 8.61888894e-01, 8.61963780e-01,\n",
       "        8.61917697e-01, 8.61906776e-01, 8.61870906e-01, 4.94229915e-01,\n",
       "        8.61952537e-01, 8.61933419e-01, 3.99934369e-04, 8.52249576e-01,\n",
       "        6.70980938e-03, 8.61961110e-01, 4.49120735e-01, 6.02251394e-08,\n",
       "        8.01182324e-01, 8.61850579e-01, 4.20687609e-12, 4.14499231e-01,\n",
       "        4.28243501e-01, 8.61873805e-01, 5.44851388e-01, 8.56655426e-01,\n",
       "        8.61880767e-01, 8.61943932e-01, 8.61930300e-01, 3.13791245e-18,\n",
       "        8.54984860e-01, 8.61907465e-01, 8.50274625e-01, 8.61937394e-01,\n",
       "        8.61900962e-01, 8.61922827e-01, 1.18114995e-01, 8.61902528e-01,\n",
       "        8.61911692e-01, 6.10530645e-01, 2.03333376e-03, 2.21712130e-02,\n",
       "        8.61895050e-01, 2.60450934e-05, 8.61912928e-01, 8.61960845e-01,\n",
       "        5.18824450e-02, 8.61914672e-01, 2.53102541e-02, 3.38395290e-16,\n",
       "        1.12423166e-05, 8.16416505e-01, 8.49645224e-01, 2.90438953e-06,\n",
       "        2.43706329e-11, 3.28440953e-01, 8.61886321e-01, 8.61890350e-01,\n",
       "        8.61979274e-01, 8.61900669e-01, 7.95483439e-01, 8.61936685e-01,\n",
       "        2.79311749e-01, 8.61926849e-01, 8.61920490e-01, 1.39064210e-01,\n",
       "        8.61931029e-01, 8.61982507e-01, 8.61120629e-01, 8.26386035e-01,\n",
       "        8.56397235e-01, 6.62724421e-01, 8.57066958e-01, 8.61953921e-01,\n",
       "        8.61961472e-01, 8.61898931e-01, 5.92838393e-01, 2.03226639e-01,\n",
       "        7.70414915e-01, 2.20863048e-04]])"
      ]
     },
     "execution_count": 52,
     "metadata": {},
     "output_type": "execute_result"
    }
   ],
   "source": [
    "# Visualiza os dados\n",
    "y_pred_teste"
   ]
  },
  {
   "cell_type": "code",
   "execution_count": 53,
   "metadata": {},
   "outputs": [],
   "source": [
    "# Ajustamos os shapes\n",
    "y_pred_teste = y_pred_teste.reshape(-1)\n",
    "y_teste = y_teste.reshape(-1)"
   ]
  },
  {
   "cell_type": "code",
   "execution_count": 54,
   "metadata": {},
   "outputs": [],
   "source": [
    "# Convertemos as previsões para o valor binário de classe\n",
    "y_pred_teste = 1 * (y_pred_teste > 0.5)"
   ]
  },
  {
   "cell_type": "code",
   "execution_count": 55,
   "metadata": {},
   "outputs": [
    {
     "data": {
      "text/plain": [
       "array([1, 1, 1, 1, 1, 1, 1, 1, 1, 0, 1, 1, 1, 1, 1, 0, 1, 1, 0, 1, 0, 1,\n",
       "       0, 0, 1, 1, 0, 0, 0, 1, 1, 1, 1, 1, 1, 0, 1, 1, 1, 1, 1, 1, 0, 1,\n",
       "       1, 1, 0, 0, 1, 0, 1, 1, 0, 1, 0, 0, 0, 1, 1, 0, 0, 0, 1, 1, 1, 1,\n",
       "       1, 1, 0, 1, 1, 0, 1, 1, 1, 1, 1, 1, 1, 1, 1, 1, 1, 0, 1, 0])"
      ]
     },
     "execution_count": 55,
     "metadata": {},
     "output_type": "execute_result"
    }
   ],
   "source": [
    "# Visualizamos as previsões\n",
    "y_pred_teste"
   ]
  },
  {
   "cell_type": "code",
   "execution_count": 56,
   "metadata": {},
   "outputs": [],
   "source": [
    "# Calculamos a acurácia\n",
    "acuracia = sum(1 * (y_pred_teste == y_teste)) / len(y_pred_teste) * 100"
   ]
  },
  {
   "cell_type": "code",
   "execution_count": 57,
   "metadata": {},
   "outputs": [
    {
     "name": "stdout",
     "output_type": "stream",
     "text": [
      "Acurácia nos dados de teste: 91.86046511627907\n"
     ]
    }
   ],
   "source": [
    "print(\"Acurácia nos dados de teste: \" + str(acuracia))"
   ]
  },
  {
   "cell_type": "code",
   "execution_count": 58,
   "metadata": {},
   "outputs": [
    {
     "name": "stdout",
     "output_type": "stream",
     "text": [
      "              precision    recall  f1-score   support\n",
      "\n",
      "     Maligno       0.92      0.82      0.87        28\n",
      "     Benigno       0.92      0.97      0.94        58\n",
      "\n",
      "    accuracy                           0.92        86\n",
      "   macro avg       0.92      0.89      0.90        86\n",
      "weighted avg       0.92      0.92      0.92        86\n",
      "\n"
     ]
    }
   ],
   "source": [
    "print(classification_report(y_teste, y_pred_teste, target_names = ['Maligno', 'Benigno']))"
   ]
  },
  {
   "cell_type": "markdown",
   "metadata": {},
   "source": [
    "# Fim"
   ]
  }
 ],
 "metadata": {
  "kernelspec": {
   "display_name": "Python 3",
   "language": "python",
   "name": "python3"
  },
  "language_info": {
   "codemirror_mode": {
    "name": "ipython",
    "version": 3
   },
   "file_extension": ".py",
   "mimetype": "text/x-python",
   "name": "python",
   "nbconvert_exporter": "python",
   "pygments_lexer": "ipython3",
   "version": "3.8.8"
  }
 },
 "nbformat": 4,
 "nbformat_minor": 4
}
